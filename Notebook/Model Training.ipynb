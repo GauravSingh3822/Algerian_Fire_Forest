{
 "cells": [
  {
   "cell_type": "code",
   "execution_count": 1,
   "id": "9a3c4f24-b6e4-48b5-87df-235932ab185a",
   "metadata": {},
   "outputs": [
    {
     "ename": "ModuleNotFoundError",
     "evalue": "No module named 'matplotlib'",
     "output_type": "error",
     "traceback": [
      "\u001b[0;31m---------------------------------------------------------------------------\u001b[0m",
      "\u001b[0;31mModuleNotFoundError\u001b[0m                       Traceback (most recent call last)",
      "Cell \u001b[0;32mIn[1], line 3\u001b[0m\n\u001b[1;32m      1\u001b[0m \u001b[38;5;28;01mimport\u001b[39;00m \u001b[38;5;21;01mnumpy\u001b[39;00m \u001b[38;5;28;01mas\u001b[39;00m \u001b[38;5;21;01mnp\u001b[39;00m \n\u001b[1;32m      2\u001b[0m \u001b[38;5;28;01mimport\u001b[39;00m \u001b[38;5;21;01mpandas\u001b[39;00m \u001b[38;5;28;01mas\u001b[39;00m \u001b[38;5;21;01mpd\u001b[39;00m \n\u001b[0;32m----> 3\u001b[0m \u001b[38;5;28;01mimport\u001b[39;00m \u001b[38;5;21;01mmatplotlib\u001b[39;00m\u001b[38;5;21;01m.\u001b[39;00m\u001b[38;5;21;01mpyplot\u001b[39;00m \u001b[38;5;28;01mas\u001b[39;00m \u001b[38;5;21;01mplt\u001b[39;00m \n\u001b[1;32m      4\u001b[0m \u001b[38;5;28;01mimport\u001b[39;00m \u001b[38;5;21;01mseaborn\u001b[39;00m \u001b[38;5;28;01mas\u001b[39;00m \u001b[38;5;21;01msns\u001b[39;00m\n\u001b[1;32m      5\u001b[0m get_ipython()\u001b[38;5;241m.\u001b[39mrun_line_magic(\u001b[38;5;124m'\u001b[39m\u001b[38;5;124mmatplotlib\u001b[39m\u001b[38;5;124m'\u001b[39m, \u001b[38;5;124m'\u001b[39m\u001b[38;5;124minline\u001b[39m\u001b[38;5;124m'\u001b[39m)\n",
      "\u001b[0;31mModuleNotFoundError\u001b[0m: No module named 'matplotlib'"
     ]
    }
   ],
   "source": [
    "import numpy as np \n",
    "import pandas as pd \n",
    "import matplotlib.pyplot as plt \n",
    "import seaborn as sns\n",
    "%matplotlib inline"
   ]
  },
  {
   "cell_type": "code",
   "execution_count": null,
   "id": "2766c513-705a-4901-896d-5d8f4a43f449",
   "metadata": {},
   "outputs": [],
   "source": [
    "df=pd.read_csv('Algerian_Forest_Fires_Dataset_Update_Cleaned.csv')"
   ]
  },
  {
   "cell_type": "code",
   "execution_count": null,
   "id": "4db26780-9406-472a-93a2-dff0b3ce62be",
   "metadata": {},
   "outputs": [
    {
     "data": {
      "text/html": [
       "<div>\n",
       "<style scoped>\n",
       "    .dataframe tbody tr th:only-of-type {\n",
       "        vertical-align: middle;\n",
       "    }\n",
       "\n",
       "    .dataframe tbody tr th {\n",
       "        vertical-align: top;\n",
       "    }\n",
       "\n",
       "    .dataframe thead th {\n",
       "        text-align: right;\n",
       "    }\n",
       "</style>\n",
       "<table border=\"1\" class=\"dataframe\">\n",
       "  <thead>\n",
       "    <tr style=\"text-align: right;\">\n",
       "      <th></th>\n",
       "      <th>day</th>\n",
       "      <th>month</th>\n",
       "      <th>year</th>\n",
       "      <th>Temperature</th>\n",
       "      <th>RH</th>\n",
       "      <th>Ws</th>\n",
       "      <th>Rain</th>\n",
       "      <th>FFMC</th>\n",
       "      <th>DMC</th>\n",
       "      <th>DC</th>\n",
       "      <th>ISI</th>\n",
       "      <th>BUI</th>\n",
       "      <th>FWI</th>\n",
       "      <th>Classes</th>\n",
       "      <th>Region</th>\n",
       "    </tr>\n",
       "  </thead>\n",
       "  <tbody>\n",
       "    <tr>\n",
       "      <th>0</th>\n",
       "      <td>1</td>\n",
       "      <td>6</td>\n",
       "      <td>2012</td>\n",
       "      <td>29</td>\n",
       "      <td>57</td>\n",
       "      <td>18</td>\n",
       "      <td>0.0</td>\n",
       "      <td>65.7</td>\n",
       "      <td>3.4</td>\n",
       "      <td>7.6</td>\n",
       "      <td>1.3</td>\n",
       "      <td>3.4</td>\n",
       "      <td>0.5</td>\n",
       "      <td>not fire</td>\n",
       "      <td>0</td>\n",
       "    </tr>\n",
       "    <tr>\n",
       "      <th>1</th>\n",
       "      <td>2</td>\n",
       "      <td>6</td>\n",
       "      <td>2012</td>\n",
       "      <td>29</td>\n",
       "      <td>61</td>\n",
       "      <td>13</td>\n",
       "      <td>1.3</td>\n",
       "      <td>64.4</td>\n",
       "      <td>4.1</td>\n",
       "      <td>7.6</td>\n",
       "      <td>1.0</td>\n",
       "      <td>3.9</td>\n",
       "      <td>0.4</td>\n",
       "      <td>not fire</td>\n",
       "      <td>0</td>\n",
       "    </tr>\n",
       "    <tr>\n",
       "      <th>2</th>\n",
       "      <td>3</td>\n",
       "      <td>6</td>\n",
       "      <td>2012</td>\n",
       "      <td>26</td>\n",
       "      <td>82</td>\n",
       "      <td>22</td>\n",
       "      <td>13.1</td>\n",
       "      <td>47.1</td>\n",
       "      <td>2.5</td>\n",
       "      <td>7.1</td>\n",
       "      <td>0.3</td>\n",
       "      <td>2.7</td>\n",
       "      <td>0.1</td>\n",
       "      <td>not fire</td>\n",
       "      <td>0</td>\n",
       "    </tr>\n",
       "    <tr>\n",
       "      <th>3</th>\n",
       "      <td>4</td>\n",
       "      <td>6</td>\n",
       "      <td>2012</td>\n",
       "      <td>25</td>\n",
       "      <td>89</td>\n",
       "      <td>13</td>\n",
       "      <td>2.5</td>\n",
       "      <td>28.6</td>\n",
       "      <td>1.3</td>\n",
       "      <td>6.9</td>\n",
       "      <td>0.0</td>\n",
       "      <td>1.7</td>\n",
       "      <td>0.0</td>\n",
       "      <td>not fire</td>\n",
       "      <td>0</td>\n",
       "    </tr>\n",
       "    <tr>\n",
       "      <th>4</th>\n",
       "      <td>5</td>\n",
       "      <td>6</td>\n",
       "      <td>2012</td>\n",
       "      <td>27</td>\n",
       "      <td>77</td>\n",
       "      <td>16</td>\n",
       "      <td>0.0</td>\n",
       "      <td>64.8</td>\n",
       "      <td>3.0</td>\n",
       "      <td>14.2</td>\n",
       "      <td>1.2</td>\n",
       "      <td>3.9</td>\n",
       "      <td>0.5</td>\n",
       "      <td>not fire</td>\n",
       "      <td>0</td>\n",
       "    </tr>\n",
       "  </tbody>\n",
       "</table>\n",
       "</div>"
      ],
      "text/plain": [
       "   day  month  year  Temperature  RH  Ws  Rain  FFMC  DMC    DC  ISI  BUI  \\\n",
       "0    1      6  2012           29  57  18   0.0  65.7  3.4   7.6  1.3  3.4   \n",
       "1    2      6  2012           29  61  13   1.3  64.4  4.1   7.6  1.0  3.9   \n",
       "2    3      6  2012           26  82  22  13.1  47.1  2.5   7.1  0.3  2.7   \n",
       "3    4      6  2012           25  89  13   2.5  28.6  1.3   6.9  0.0  1.7   \n",
       "4    5      6  2012           27  77  16   0.0  64.8  3.0  14.2  1.2  3.9   \n",
       "\n",
       "   FWI      Classes  Region  \n",
       "0  0.5  not fire          0  \n",
       "1  0.4  not fire          0  \n",
       "2  0.1  not fire          0  \n",
       "3  0.0  not fire          0  \n",
       "4  0.5  not fire          0  "
      ]
     },
     "execution_count": 3,
     "metadata": {},
     "output_type": "execute_result"
    }
   ],
   "source": [
    "df.head()"
   ]
  },
  {
   "cell_type": "code",
   "execution_count": 2,
   "id": "fe2fa702-934a-4835-af48-76d998da3b3a",
   "metadata": {},
   "outputs": [
    {
     "ename": "NameError",
     "evalue": "name 'df' is not defined",
     "output_type": "error",
     "traceback": [
      "\u001b[0;31m---------------------------------------------------------------------------\u001b[0m",
      "\u001b[0;31mNameError\u001b[0m                                 Traceback (most recent call last)",
      "Cell \u001b[0;32mIn[2], line 1\u001b[0m\n\u001b[0;32m----> 1\u001b[0m \u001b[43mdf\u001b[49m\u001b[38;5;241m.\u001b[39mcolumns\n",
      "\u001b[0;31mNameError\u001b[0m: name 'df' is not defined"
     ]
    }
   ],
   "source": [
    "df.columns"
   ]
  },
  {
   "cell_type": "code",
   "execution_count": null,
   "id": "319e14df-d896-4f9c-92cc-26412a779658",
   "metadata": {},
   "outputs": [],
   "source": [
    "df.drop(['day', 'month', 'year'],axis=1,inplace=True)"
   ]
  },
  {
   "cell_type": "code",
   "execution_count": null,
   "id": "ce342217-28f9-4097-98d0-1aead8f2415f",
   "metadata": {},
   "outputs": [
    {
     "data": {
      "text/html": [
       "<div>\n",
       "<style scoped>\n",
       "    .dataframe tbody tr th:only-of-type {\n",
       "        vertical-align: middle;\n",
       "    }\n",
       "\n",
       "    .dataframe tbody tr th {\n",
       "        vertical-align: top;\n",
       "    }\n",
       "\n",
       "    .dataframe thead th {\n",
       "        text-align: right;\n",
       "    }\n",
       "</style>\n",
       "<table border=\"1\" class=\"dataframe\">\n",
       "  <thead>\n",
       "    <tr style=\"text-align: right;\">\n",
       "      <th></th>\n",
       "      <th>Temperature</th>\n",
       "      <th>RH</th>\n",
       "      <th>Ws</th>\n",
       "      <th>Rain</th>\n",
       "      <th>FFMC</th>\n",
       "      <th>DMC</th>\n",
       "      <th>DC</th>\n",
       "      <th>ISI</th>\n",
       "      <th>BUI</th>\n",
       "      <th>FWI</th>\n",
       "      <th>Classes</th>\n",
       "      <th>Region</th>\n",
       "    </tr>\n",
       "  </thead>\n",
       "  <tbody>\n",
       "    <tr>\n",
       "      <th>0</th>\n",
       "      <td>29</td>\n",
       "      <td>57</td>\n",
       "      <td>18</td>\n",
       "      <td>0.0</td>\n",
       "      <td>65.7</td>\n",
       "      <td>3.4</td>\n",
       "      <td>7.6</td>\n",
       "      <td>1.3</td>\n",
       "      <td>3.4</td>\n",
       "      <td>0.5</td>\n",
       "      <td>not fire</td>\n",
       "      <td>0</td>\n",
       "    </tr>\n",
       "    <tr>\n",
       "      <th>1</th>\n",
       "      <td>29</td>\n",
       "      <td>61</td>\n",
       "      <td>13</td>\n",
       "      <td>1.3</td>\n",
       "      <td>64.4</td>\n",
       "      <td>4.1</td>\n",
       "      <td>7.6</td>\n",
       "      <td>1.0</td>\n",
       "      <td>3.9</td>\n",
       "      <td>0.4</td>\n",
       "      <td>not fire</td>\n",
       "      <td>0</td>\n",
       "    </tr>\n",
       "    <tr>\n",
       "      <th>2</th>\n",
       "      <td>26</td>\n",
       "      <td>82</td>\n",
       "      <td>22</td>\n",
       "      <td>13.1</td>\n",
       "      <td>47.1</td>\n",
       "      <td>2.5</td>\n",
       "      <td>7.1</td>\n",
       "      <td>0.3</td>\n",
       "      <td>2.7</td>\n",
       "      <td>0.1</td>\n",
       "      <td>not fire</td>\n",
       "      <td>0</td>\n",
       "    </tr>\n",
       "    <tr>\n",
       "      <th>3</th>\n",
       "      <td>25</td>\n",
       "      <td>89</td>\n",
       "      <td>13</td>\n",
       "      <td>2.5</td>\n",
       "      <td>28.6</td>\n",
       "      <td>1.3</td>\n",
       "      <td>6.9</td>\n",
       "      <td>0.0</td>\n",
       "      <td>1.7</td>\n",
       "      <td>0.0</td>\n",
       "      <td>not fire</td>\n",
       "      <td>0</td>\n",
       "    </tr>\n",
       "    <tr>\n",
       "      <th>4</th>\n",
       "      <td>27</td>\n",
       "      <td>77</td>\n",
       "      <td>16</td>\n",
       "      <td>0.0</td>\n",
       "      <td>64.8</td>\n",
       "      <td>3.0</td>\n",
       "      <td>14.2</td>\n",
       "      <td>1.2</td>\n",
       "      <td>3.9</td>\n",
       "      <td>0.5</td>\n",
       "      <td>not fire</td>\n",
       "      <td>0</td>\n",
       "    </tr>\n",
       "  </tbody>\n",
       "</table>\n",
       "</div>"
      ],
      "text/plain": [
       "   Temperature  RH  Ws  Rain  FFMC  DMC    DC  ISI  BUI  FWI      Classes  \\\n",
       "0           29  57  18   0.0  65.7  3.4   7.6  1.3  3.4  0.5  not fire      \n",
       "1           29  61  13   1.3  64.4  4.1   7.6  1.0  3.9  0.4  not fire      \n",
       "2           26  82  22  13.1  47.1  2.5   7.1  0.3  2.7  0.1  not fire      \n",
       "3           25  89  13   2.5  28.6  1.3   6.9  0.0  1.7  0.0  not fire      \n",
       "4           27  77  16   0.0  64.8  3.0  14.2  1.2  3.9  0.5  not fire      \n",
       "\n",
       "   Region  \n",
       "0       0  \n",
       "1       0  \n",
       "2       0  \n",
       "3       0  \n",
       "4       0  "
      ]
     },
     "execution_count": 6,
     "metadata": {},
     "output_type": "execute_result"
    }
   ],
   "source": [
    "df.head()"
   ]
  },
  {
   "cell_type": "code",
   "execution_count": null,
   "id": "5b113661-d2a5-421b-9dbf-b5bce33085ef",
   "metadata": {},
   "outputs": [
    {
     "data": {
      "text/plain": [
       "Classes\n",
       "fire             131\n",
       "not fire         101\n",
       "fire               4\n",
       "fire               2\n",
       "not fire           2\n",
       "not fire           1\n",
       "not fire           1\n",
       "not fire           1\n",
       "Name: count, dtype: int64"
      ]
     },
     "execution_count": 7,
     "metadata": {},
     "output_type": "execute_result"
    }
   ],
   "source": [
    "df['Classes'].value_counts()"
   ]
  },
  {
   "cell_type": "markdown",
   "id": "e4eaff0c-8a67-401c-a48b-508b7e5f306d",
   "metadata": {},
   "source": [
    "## Encoding"
   ]
  },
  {
   "cell_type": "code",
   "execution_count": null,
   "id": "e21cba78-787e-499f-a746-8b85f600d0d1",
   "metadata": {},
   "outputs": [],
   "source": [
    "df['Classes']=np.where(df['Classes'].str.contains('not fire'),0,1)"
   ]
  },
  {
   "cell_type": "code",
   "execution_count": null,
   "id": "2565995d-9ed9-40ec-99d4-a65c67f330c2",
   "metadata": {},
   "outputs": [
    {
     "data": {
      "text/plain": [
       "Classes\n",
       "1    137\n",
       "0    106\n",
       "Name: count, dtype: int64"
      ]
     },
     "execution_count": 9,
     "metadata": {},
     "output_type": "execute_result"
    }
   ],
   "source": [
    "df['Classes'].value_counts()"
   ]
  },
  {
   "cell_type": "markdown",
   "id": "dd8cbd36-8548-49b0-90d6-5c3c53608790",
   "metadata": {},
   "source": [
    "## Dependent and Independ Variables"
   ]
  },
  {
   "cell_type": "code",
   "execution_count": null,
   "id": "6df92e40-0d25-4e52-99cf-24da51622ddb",
   "metadata": {},
   "outputs": [],
   "source": [
    "X=df.drop('FWI',axis=1)\n",
    "y=df['FWI']"
   ]
  },
  {
   "cell_type": "code",
   "execution_count": null,
   "id": "c690cabe-6d9a-43f5-90ec-228652ccdbb3",
   "metadata": {},
   "outputs": [
    {
     "data": {
      "text/html": [
       "<div>\n",
       "<style scoped>\n",
       "    .dataframe tbody tr th:only-of-type {\n",
       "        vertical-align: middle;\n",
       "    }\n",
       "\n",
       "    .dataframe tbody tr th {\n",
       "        vertical-align: top;\n",
       "    }\n",
       "\n",
       "    .dataframe thead th {\n",
       "        text-align: right;\n",
       "    }\n",
       "</style>\n",
       "<table border=\"1\" class=\"dataframe\">\n",
       "  <thead>\n",
       "    <tr style=\"text-align: right;\">\n",
       "      <th></th>\n",
       "      <th>Temperature</th>\n",
       "      <th>RH</th>\n",
       "      <th>Ws</th>\n",
       "      <th>Rain</th>\n",
       "      <th>FFMC</th>\n",
       "      <th>DMC</th>\n",
       "      <th>DC</th>\n",
       "      <th>ISI</th>\n",
       "      <th>BUI</th>\n",
       "      <th>Classes</th>\n",
       "      <th>Region</th>\n",
       "    </tr>\n",
       "  </thead>\n",
       "  <tbody>\n",
       "    <tr>\n",
       "      <th>0</th>\n",
       "      <td>29</td>\n",
       "      <td>57</td>\n",
       "      <td>18</td>\n",
       "      <td>0.0</td>\n",
       "      <td>65.7</td>\n",
       "      <td>3.4</td>\n",
       "      <td>7.6</td>\n",
       "      <td>1.3</td>\n",
       "      <td>3.4</td>\n",
       "      <td>0</td>\n",
       "      <td>0</td>\n",
       "    </tr>\n",
       "    <tr>\n",
       "      <th>1</th>\n",
       "      <td>29</td>\n",
       "      <td>61</td>\n",
       "      <td>13</td>\n",
       "      <td>1.3</td>\n",
       "      <td>64.4</td>\n",
       "      <td>4.1</td>\n",
       "      <td>7.6</td>\n",
       "      <td>1.0</td>\n",
       "      <td>3.9</td>\n",
       "      <td>0</td>\n",
       "      <td>0</td>\n",
       "    </tr>\n",
       "    <tr>\n",
       "      <th>2</th>\n",
       "      <td>26</td>\n",
       "      <td>82</td>\n",
       "      <td>22</td>\n",
       "      <td>13.1</td>\n",
       "      <td>47.1</td>\n",
       "      <td>2.5</td>\n",
       "      <td>7.1</td>\n",
       "      <td>0.3</td>\n",
       "      <td>2.7</td>\n",
       "      <td>0</td>\n",
       "      <td>0</td>\n",
       "    </tr>\n",
       "    <tr>\n",
       "      <th>3</th>\n",
       "      <td>25</td>\n",
       "      <td>89</td>\n",
       "      <td>13</td>\n",
       "      <td>2.5</td>\n",
       "      <td>28.6</td>\n",
       "      <td>1.3</td>\n",
       "      <td>6.9</td>\n",
       "      <td>0.0</td>\n",
       "      <td>1.7</td>\n",
       "      <td>0</td>\n",
       "      <td>0</td>\n",
       "    </tr>\n",
       "    <tr>\n",
       "      <th>4</th>\n",
       "      <td>27</td>\n",
       "      <td>77</td>\n",
       "      <td>16</td>\n",
       "      <td>0.0</td>\n",
       "      <td>64.8</td>\n",
       "      <td>3.0</td>\n",
       "      <td>14.2</td>\n",
       "      <td>1.2</td>\n",
       "      <td>3.9</td>\n",
       "      <td>0</td>\n",
       "      <td>0</td>\n",
       "    </tr>\n",
       "  </tbody>\n",
       "</table>\n",
       "</div>"
      ],
      "text/plain": [
       "   Temperature  RH  Ws  Rain  FFMC  DMC    DC  ISI  BUI  Classes  Region\n",
       "0           29  57  18   0.0  65.7  3.4   7.6  1.3  3.4        0       0\n",
       "1           29  61  13   1.3  64.4  4.1   7.6  1.0  3.9        0       0\n",
       "2           26  82  22  13.1  47.1  2.5   7.1  0.3  2.7        0       0\n",
       "3           25  89  13   2.5  28.6  1.3   6.9  0.0  1.7        0       0\n",
       "4           27  77  16   0.0  64.8  3.0  14.2  1.2  3.9        0       0"
      ]
     },
     "execution_count": 11,
     "metadata": {},
     "output_type": "execute_result"
    }
   ],
   "source": [
    "X.head()"
   ]
  },
  {
   "cell_type": "code",
   "execution_count": null,
   "id": "7db59d64-df04-496d-b7b4-557b58787906",
   "metadata": {},
   "outputs": [
    {
     "data": {
      "text/plain": [
       "0      0.5\n",
       "1      0.4\n",
       "2      0.1\n",
       "3      0.0\n",
       "4      0.5\n",
       "      ... \n",
       "238    6.5\n",
       "239    0.0\n",
       "240    0.2\n",
       "241    0.7\n",
       "242    0.5\n",
       "Name: FWI, Length: 243, dtype: float64"
      ]
     },
     "execution_count": 12,
     "metadata": {},
     "output_type": "execute_result"
    }
   ],
   "source": [
    "y"
   ]
  },
  {
   "cell_type": "markdown",
   "id": "ce3c2d30-4f6e-43e4-99fb-78546f116837",
   "metadata": {},
   "source": [
    "## Train Test Split"
   ]
  },
  {
   "cell_type": "code",
   "execution_count": null,
   "id": "a850d395-276b-46e9-a255-de8fc22a57aa",
   "metadata": {},
   "outputs": [],
   "source": [
    "from sklearn.model_selection import train_test_split\n",
    "X_train,X_test,y_train,y_test=train_test_split(X,y,test_size=0.25,random_state=42)"
   ]
  },
  {
   "cell_type": "code",
   "execution_count": null,
   "id": "19df4ddd-3eee-49f3-a848-813695d8aee1",
   "metadata": {},
   "outputs": [
    {
     "data": {
      "text/plain": [
       "((182, 11), (61, 11))"
      ]
     },
     "execution_count": 14,
     "metadata": {},
     "output_type": "execute_result"
    }
   ],
   "source": [
    "X_train.shape,X_test.shape"
   ]
  },
  {
   "cell_type": "markdown",
   "id": "648a694e-73ac-42fc-87ef-d6c8216b79c4",
   "metadata": {},
   "source": [
    "## Feature Selection Based on Correlation"
   ]
  },
  {
   "cell_type": "code",
   "execution_count": null,
   "id": "4c728c66-835a-4616-95b6-f137d772c607",
   "metadata": {},
   "outputs": [
    {
     "data": {
      "text/html": [
       "<div>\n",
       "<style scoped>\n",
       "    .dataframe tbody tr th:only-of-type {\n",
       "        vertical-align: middle;\n",
       "    }\n",
       "\n",
       "    .dataframe tbody tr th {\n",
       "        vertical-align: top;\n",
       "    }\n",
       "\n",
       "    .dataframe thead th {\n",
       "        text-align: right;\n",
       "    }\n",
       "</style>\n",
       "<table border=\"1\" class=\"dataframe\">\n",
       "  <thead>\n",
       "    <tr style=\"text-align: right;\">\n",
       "      <th></th>\n",
       "      <th>Temperature</th>\n",
       "      <th>RH</th>\n",
       "      <th>Ws</th>\n",
       "      <th>Rain</th>\n",
       "      <th>FFMC</th>\n",
       "      <th>DMC</th>\n",
       "      <th>DC</th>\n",
       "      <th>ISI</th>\n",
       "      <th>BUI</th>\n",
       "      <th>Classes</th>\n",
       "      <th>Region</th>\n",
       "    </tr>\n",
       "  </thead>\n",
       "  <tbody>\n",
       "    <tr>\n",
       "      <th>Temperature</th>\n",
       "      <td>1.000000</td>\n",
       "      <td>-0.656095</td>\n",
       "      <td>-0.305977</td>\n",
       "      <td>-0.317512</td>\n",
       "      <td>0.694768</td>\n",
       "      <td>0.498173</td>\n",
       "      <td>0.390684</td>\n",
       "      <td>0.629848</td>\n",
       "      <td>0.473609</td>\n",
       "      <td>0.542141</td>\n",
       "      <td>0.254549</td>\n",
       "    </tr>\n",
       "    <tr>\n",
       "      <th>RH</th>\n",
       "      <td>-0.656095</td>\n",
       "      <td>1.000000</td>\n",
       "      <td>0.225736</td>\n",
       "      <td>0.241656</td>\n",
       "      <td>-0.653023</td>\n",
       "      <td>-0.414601</td>\n",
       "      <td>-0.236078</td>\n",
       "      <td>-0.717804</td>\n",
       "      <td>-0.362317</td>\n",
       "      <td>-0.456876</td>\n",
       "      <td>-0.394665</td>\n",
       "    </tr>\n",
       "    <tr>\n",
       "      <th>Ws</th>\n",
       "      <td>-0.305977</td>\n",
       "      <td>0.225736</td>\n",
       "      <td>1.000000</td>\n",
       "      <td>0.251932</td>\n",
       "      <td>-0.190076</td>\n",
       "      <td>0.000379</td>\n",
       "      <td>0.096576</td>\n",
       "      <td>-0.023558</td>\n",
       "      <td>0.035633</td>\n",
       "      <td>-0.082570</td>\n",
       "      <td>-0.199969</td>\n",
       "    </tr>\n",
       "    <tr>\n",
       "      <th>Rain</th>\n",
       "      <td>-0.317512</td>\n",
       "      <td>0.241656</td>\n",
       "      <td>0.251932</td>\n",
       "      <td>1.000000</td>\n",
       "      <td>-0.545491</td>\n",
       "      <td>-0.289754</td>\n",
       "      <td>-0.302341</td>\n",
       "      <td>-0.345707</td>\n",
       "      <td>-0.300964</td>\n",
       "      <td>-0.369357</td>\n",
       "      <td>-0.059022</td>\n",
       "    </tr>\n",
       "    <tr>\n",
       "      <th>FFMC</th>\n",
       "      <td>0.694768</td>\n",
       "      <td>-0.653023</td>\n",
       "      <td>-0.190076</td>\n",
       "      <td>-0.545491</td>\n",
       "      <td>1.000000</td>\n",
       "      <td>0.620807</td>\n",
       "      <td>0.524101</td>\n",
       "      <td>0.750799</td>\n",
       "      <td>0.607210</td>\n",
       "      <td>0.781259</td>\n",
       "      <td>0.249514</td>\n",
       "    </tr>\n",
       "    <tr>\n",
       "      <th>DMC</th>\n",
       "      <td>0.498173</td>\n",
       "      <td>-0.414601</td>\n",
       "      <td>0.000379</td>\n",
       "      <td>-0.289754</td>\n",
       "      <td>0.620807</td>\n",
       "      <td>1.000000</td>\n",
       "      <td>0.868647</td>\n",
       "      <td>0.685656</td>\n",
       "      <td>0.983175</td>\n",
       "      <td>0.617273</td>\n",
       "      <td>0.212582</td>\n",
       "    </tr>\n",
       "    <tr>\n",
       "      <th>DC</th>\n",
       "      <td>0.390684</td>\n",
       "      <td>-0.236078</td>\n",
       "      <td>0.096576</td>\n",
       "      <td>-0.302341</td>\n",
       "      <td>0.524101</td>\n",
       "      <td>0.868647</td>\n",
       "      <td>1.000000</td>\n",
       "      <td>0.513701</td>\n",
       "      <td>0.942414</td>\n",
       "      <td>0.543581</td>\n",
       "      <td>-0.060838</td>\n",
       "    </tr>\n",
       "    <tr>\n",
       "      <th>ISI</th>\n",
       "      <td>0.629848</td>\n",
       "      <td>-0.717804</td>\n",
       "      <td>-0.023558</td>\n",
       "      <td>-0.345707</td>\n",
       "      <td>0.750799</td>\n",
       "      <td>0.685656</td>\n",
       "      <td>0.513701</td>\n",
       "      <td>1.000000</td>\n",
       "      <td>0.643818</td>\n",
       "      <td>0.742977</td>\n",
       "      <td>0.296441</td>\n",
       "    </tr>\n",
       "    <tr>\n",
       "      <th>BUI</th>\n",
       "      <td>0.473609</td>\n",
       "      <td>-0.362317</td>\n",
       "      <td>0.035633</td>\n",
       "      <td>-0.300964</td>\n",
       "      <td>0.607210</td>\n",
       "      <td>0.983175</td>\n",
       "      <td>0.942414</td>\n",
       "      <td>0.643818</td>\n",
       "      <td>1.000000</td>\n",
       "      <td>0.612239</td>\n",
       "      <td>0.114897</td>\n",
       "    </tr>\n",
       "    <tr>\n",
       "      <th>Classes</th>\n",
       "      <td>0.542141</td>\n",
       "      <td>-0.456876</td>\n",
       "      <td>-0.082570</td>\n",
       "      <td>-0.369357</td>\n",
       "      <td>0.781259</td>\n",
       "      <td>0.617273</td>\n",
       "      <td>0.543581</td>\n",
       "      <td>0.742977</td>\n",
       "      <td>0.612239</td>\n",
       "      <td>1.000000</td>\n",
       "      <td>0.188837</td>\n",
       "    </tr>\n",
       "    <tr>\n",
       "      <th>Region</th>\n",
       "      <td>0.254549</td>\n",
       "      <td>-0.394665</td>\n",
       "      <td>-0.199969</td>\n",
       "      <td>-0.059022</td>\n",
       "      <td>0.249514</td>\n",
       "      <td>0.212582</td>\n",
       "      <td>-0.060838</td>\n",
       "      <td>0.296441</td>\n",
       "      <td>0.114897</td>\n",
       "      <td>0.188837</td>\n",
       "      <td>1.000000</td>\n",
       "    </tr>\n",
       "  </tbody>\n",
       "</table>\n",
       "</div>"
      ],
      "text/plain": [
       "             Temperature        RH        Ws      Rain      FFMC       DMC  \\\n",
       "Temperature     1.000000 -0.656095 -0.305977 -0.317512  0.694768  0.498173   \n",
       "RH             -0.656095  1.000000  0.225736  0.241656 -0.653023 -0.414601   \n",
       "Ws             -0.305977  0.225736  1.000000  0.251932 -0.190076  0.000379   \n",
       "Rain           -0.317512  0.241656  0.251932  1.000000 -0.545491 -0.289754   \n",
       "FFMC            0.694768 -0.653023 -0.190076 -0.545491  1.000000  0.620807   \n",
       "DMC             0.498173 -0.414601  0.000379 -0.289754  0.620807  1.000000   \n",
       "DC              0.390684 -0.236078  0.096576 -0.302341  0.524101  0.868647   \n",
       "ISI             0.629848 -0.717804 -0.023558 -0.345707  0.750799  0.685656   \n",
       "BUI             0.473609 -0.362317  0.035633 -0.300964  0.607210  0.983175   \n",
       "Classes         0.542141 -0.456876 -0.082570 -0.369357  0.781259  0.617273   \n",
       "Region          0.254549 -0.394665 -0.199969 -0.059022  0.249514  0.212582   \n",
       "\n",
       "                   DC       ISI       BUI   Classes    Region  \n",
       "Temperature  0.390684  0.629848  0.473609  0.542141  0.254549  \n",
       "RH          -0.236078 -0.717804 -0.362317 -0.456876 -0.394665  \n",
       "Ws           0.096576 -0.023558  0.035633 -0.082570 -0.199969  \n",
       "Rain        -0.302341 -0.345707 -0.300964 -0.369357 -0.059022  \n",
       "FFMC         0.524101  0.750799  0.607210  0.781259  0.249514  \n",
       "DMC          0.868647  0.685656  0.983175  0.617273  0.212582  \n",
       "DC           1.000000  0.513701  0.942414  0.543581 -0.060838  \n",
       "ISI          0.513701  1.000000  0.643818  0.742977  0.296441  \n",
       "BUI          0.942414  0.643818  1.000000  0.612239  0.114897  \n",
       "Classes      0.543581  0.742977  0.612239  1.000000  0.188837  \n",
       "Region      -0.060838  0.296441  0.114897  0.188837  1.000000  "
      ]
     },
     "execution_count": 15,
     "metadata": {},
     "output_type": "execute_result"
    }
   ],
   "source": [
    "X_train.corr()"
   ]
  },
  {
   "cell_type": "markdown",
   "id": "d330c9f5-6b11-4eb9-b381-2f6e45615f9f",
   "metadata": {},
   "source": [
    "## Feature Selection"
   ]
  },
  {
   "cell_type": "markdown",
   "id": "863caa12-8b98-4a76-9fd5-2957cc51a63f",
   "metadata": {},
   "source": [
    "### Check Multi_Collinearty"
   ]
  },
  {
   "cell_type": "code",
   "execution_count": null,
   "id": "59b6c081-0a6e-4dee-a1af-211ead5a7938",
   "metadata": {},
   "outputs": [
    {
     "data": {
      "text/plain": [
       "<Axes: >"
      ]
     },
     "execution_count": 16,
     "metadata": {},
     "output_type": "execute_result"
    },
    {
     "data": {
      "image/png": "[encoded data removed]",
      "text/plain": [
       "<Figure size 1200x700 with 2 Axes>"
      ]
     },
     "metadata": {},
     "output_type": "display_data"
    }
   ],
   "source": [
    "plt.figure(figsize=(12,7))\n",
    "corr=X_train.corr()\n",
    "sns.heatmap(corr,annot=True)"
   ]
  },
  {
   "cell_type": "code",
   "execution_count": null,
   "id": "1a08e267-a4d4-4d88-88b4-91464990b127",
   "metadata": {},
   "outputs": [],
   "source": [
    "def corrleation(dataset,threshold):\n",
    "     col_corr = set()\n",
    "     corr_matrix = dataset.corr()\n",
    "     for i in range(len(corr_matrix.columns)):\n",
    "        for j in range(i):\n",
    "            if abs(corr_matrix.iloc[i, j]) > threshold:\n",
    "                colname = corr_matrix.columns[i]\n",
    "                col_corr.add(colname)\n",
    "     return col_corr"
   ]
  },
  {
   "cell_type": "markdown",
   "id": "4459fb58-249c-4159-941c-7ce191ffeb90",
   "metadata": {},
   "source": [
    "## threshold--Domain expertise"
   ]
  },
  {
   "cell_type": "code",
   "execution_count": null,
   "id": "14269bc7-5e24-4a78-9b66-5d5a8708ef5a",
   "metadata": {},
   "outputs": [],
   "source": [
    "corr_feature=corrleation(X_train,0.85)"
   ]
  },
  {
   "cell_type": "code",
   "execution_count": null,
   "id": "f7530a24-6f05-4366-a23c-780a8a37e0f0",
   "metadata": {},
   "outputs": [
    {
     "data": {
      "text/plain": [
       "{'BUI', 'DC'}"
      ]
     },
     "execution_count": 19,
     "metadata": {},
     "output_type": "execute_result"
    }
   ],
   "source": [
    "corr_feature"
   ]
  },
  {
   "cell_type": "markdown",
   "id": "ef5c53c6-ed60-427d-977a-214cdc4187c2",
   "metadata": {},
   "source": [
    "## Drop features when correlation is more than 0.85"
   ]
  },
  {
   "cell_type": "code",
   "execution_count": null,
   "id": "06088a05-21b5-4b2f-99dd-8b3aec167c03",
   "metadata": {},
   "outputs": [
    {
     "data": {
      "text/plain": [
       "((182, 9), (61, 9))"
      ]
     },
     "execution_count": 20,
     "metadata": {},
     "output_type": "execute_result"
    }
   ],
   "source": [
    "X_train.drop(corr_feature,axis=1,inplace=True)\n",
    "X_test.drop(corr_feature,axis=1,inplace=True)\n",
    "X_train.shape,X_test.shape"
   ]
  },
  {
   "cell_type": "markdown",
   "id": "0778ba14-c050-453d-991e-0c9e24c09cc7",
   "metadata": {},
   "source": [
    "## Feature Selection or Standarization"
   ]
  },
  {
   "cell_type": "code",
   "execution_count": null,
   "id": "3993579c-e984-46e5-9f44-080c4ea49f1d",
   "metadata": {},
   "outputs": [
    {
     "data": {
      "text/plain": [
       "((182, 9), (61, 9))"
      ]
     },
     "execution_count": 21,
     "metadata": {},
     "output_type": "execute_result"
    }
   ],
   "source": [
    "from sklearn.preprocessing import StandardScaler\n",
    "scaler=StandardScaler()\n",
    "X_test_scaled=scaler.fit_transform(X_test)\n",
    "X_train_scaled=scaler.transform(X_train)\n",
    "X_train_scaled.shape,X_test_scaled.shape"
   ]
  },
  {
   "cell_type": "code",
   "execution_count": null,
   "id": "eb270642-803e-45e8-80d4-0145798cc7b4",
   "metadata": {},
   "outputs": [
    {
     "data": {
      "text/plain": [
       "array([[-3.73215184e-01,  1.86526055e-01, -7.56034558e-02,\n",
       "        -3.93465417e-01,  5.75516485e-01, -2.71484039e-02,\n",
       "         3.33219559e-01,  8.05387266e-01, -1.01653005e+00],\n",
       "       [ 2.18112770e-01, -5.15825141e-01, -6.90511563e-01,\n",
       "        -3.93465417e-01,  6.80353750e-01, -3.98035193e-01,\n",
       "         5.29474389e-01,  8.05387266e-01, -1.01653005e+00],\n",
       "       [-1.26020712e+00, -2.34884662e-01,  8.46758705e-01,\n",
       "         1.07328622e+00, -1.03198825e+00, -9.75928561e-01,\n",
       "        -9.28418633e-01, -1.24163870e+00,  9.83738754e-01],\n",
       "       [ 5.13776747e-01, -2.34884662e-01, -6.90511563e-01,\n",
       "        -2.60124359e-01,  7.22976113e-02,  3.60988933e-01,\n",
       "        -6.76090995e-01, -1.24163870e+00,  9.83738754e-01],\n",
       "       [-6.68879162e-01,  2.56761175e-01, -3.83057509e-01,\n",
       "        -3.93465417e-01,  4.84657521e-01,  1.28106531e-01,\n",
       "        -3.21729229e-03,  8.05387266e-01,  9.83738754e-01],\n",
       "       [ 1.99209663e+00,  1.86526055e-01, -1.92032778e+00,\n",
       "         4.06580931e-01, -3.26083997e-01, -2.42780258e-01,\n",
       "        -9.56455037e-01, -1.24163870e+00,  9.83738754e-01],\n",
       "       [-1.26020712e+00,  9.59112372e-01,  2.31850598e-01,\n",
       "        -3.93465417e-01,  2.61004689e-01, -8.72425271e-01,\n",
       "        -3.39654143e-01,  8.05387266e-01,  9.83738754e-01],\n",
       "       [ 1.40076868e+00, -1.78005729e+00, -6.90511563e-01,\n",
       "         6.55775695e-03,  5.40570730e-01,  2.91986740e-01,\n",
       "         8.08919205e-02,  8.05387266e-01,  9.83738754e-01],\n",
       "       [-1.26020712e+00,  1.24005285e+00, -9.97965617e-01,\n",
       "        -3.93465417e-01, -3.68018903e-01, -4.32536289e-01,\n",
       "        -9.00382229e-01, -1.24163870e+00, -1.01653005e+00],\n",
       "       [-3.73215184e-01, -7.96765620e-01,  1.15421276e+00,\n",
       "         6.55775695e-03, -4.65179560e-02, -3.37658274e-01,\n",
       "        -5.91981782e-01, -1.24163870e+00, -1.01653005e+00],\n",
       "       [-1.26020712e+00,  1.02934749e+00,  1.76912087e+00,\n",
       "        -3.93465417e-01, -4.09953809e-01, -6.48168143e-01,\n",
       "        -1.06860065e+00, -1.24163870e+00, -1.01653005e+00],\n",
       "       [ 8.09440725e-01, -3.75354902e-01, -3.83057509e-01,\n",
       "        -1.26783301e-01,  5.13301583e-02,  1.93941410e+00,\n",
       "        -6.76090995e-01, -1.24163870e+00,  9.83738754e-01],\n",
       "       [-7.75512071e-02, -7.26530500e-01, -6.90511563e-01,\n",
       "        -3.93465417e-01,  7.15299505e-01,  1.28106531e-01,\n",
       "         6.69656410e-01,  8.05387266e-01,  9.83738754e-01],\n",
       "       [ 1.10510470e+00, -7.96765620e-01,  2.31850598e-01,\n",
       "        -3.93465417e-01,  7.99169317e-01,  1.56852732e+00,\n",
       "         1.39860292e+00,  8.05387266e-01,  9.83738754e-01],\n",
       "       [ 1.10510470e+00, -4.45590021e-01,  8.46758705e-01,\n",
       "        -3.93465417e-01,  7.43256109e-01,  1.63752951e+00,\n",
       "         1.51074854e+00,  8.05387266e-01, -1.01653005e+00],\n",
       "       [ 5.13776747e-01, -7.26530500e-01,  2.31850598e-01,\n",
       "         2.14001468e+00, -6.74854090e-02, -5.61915402e-01,\n",
       "        -7.04127399e-01, -1.24163870e+00,  9.83738754e-01],\n",
       "       [-1.85153507e+00, -8.67000739e-01, -2.84268994e+00,\n",
       "         9.39945162e-01, -1.19972787e+00, -2.25529710e-01,\n",
       "        -1.09663706e+00, -1.24163870e+00,  9.83738754e-01],\n",
       "       [-9.64543139e-01,  1.94240405e+00, -6.90511563e-01,\n",
       "         7.32282859e-02, -2.96099393e+00, -1.10530767e+00,\n",
       "        -1.26485548e+00, -1.24163870e+00, -1.01653005e+00],\n",
       "       [-7.75512071e-02,  9.59112372e-01, -3.83057509e-01,\n",
       "        -3.93465417e-01,  5.54549032e-01, -1.30651694e-01,\n",
       "         1.93037538e-01,  8.05387266e-01, -1.01653005e+00],\n",
       "       [ 8.09440725e-01, -5.15825141e-01, -1.30541967e+00,\n",
       "        -3.26794888e-01,  3.65841954e-01, -5.27414305e-01,\n",
       "        -3.95726952e-01,  8.05387266e-01,  9.83738754e-01],\n",
       "       [ 2.18112770e-01,  1.16981773e+00,  5.39304652e-01,\n",
       "        -3.93465417e-01,  1.14232517e-01, -8.55174723e-01,\n",
       "        -5.07872569e-01, -1.24163870e+00, -1.01653005e+00],\n",
       "       [-6.68879162e-01,  1.31028797e+00,  2.31850598e-01,\n",
       "        -1.26783301e-01, -1.30456514e+00, -9.58678013e-01,\n",
       "        -1.01252785e+00, -1.24163870e+00, -1.01653005e+00],\n",
       "       [-3.73215184e-01, -6.56295380e-01, -3.83057509e-01,\n",
       "        -3.93465417e-01,  6.45407995e-01, -6.99919788e-01,\n",
       "         4.73401580e-01,  8.05387266e-01, -1.01653005e+00],\n",
       "       [-9.64543139e-01,  4.67466534e-01,  1.15421276e+00,\n",
       "         2.73239873e-01, -1.29757599e+00, -1.03630548e+00,\n",
       "        -9.56455037e-01, -1.24163870e+00, -1.01653005e+00],\n",
       "       [ 1.69643266e+00, -1.85029241e+00, -7.56034558e-02,\n",
       "        -3.93465417e-01,  1.07174621e+00,  7.31875722e-01,\n",
       "         3.13685999e+00,  8.05387266e-01,  9.83738754e-01],\n",
       "       [ 1.99209663e+00, -1.14794122e+00, -6.90511563e-01,\n",
       "         6.55775695e-03,  4.70679219e-01, -2.77281355e-01,\n",
       "        -8.73265051e-02,  8.05387266e-01,  9.83738754e-01],\n",
       "       [-3.73215184e-01,  2.56761175e-01, -3.83057509e-01,\n",
       "        -3.93465417e-01,  4.21755162e-01, -1.73778065e-01,\n",
       "        -1.43399314e-01,  8.05387266e-01, -1.01653005e+00],\n",
       "       [ 8.09440725e-01,  1.16290936e-01, -7.56034558e-02,\n",
       "        -3.93465417e-01,  5.96483938e-01,  3.86864756e-01,\n",
       "         3.89292367e-01,  8.05387266e-01, -1.01653005e+00],\n",
       "       [-3.03419098e+00,  1.73169869e+00, -7.56034558e-02,\n",
       "         6.34025801e+00, -3.35238639e+00, -1.19156042e+00,\n",
       "        -1.26485548e+00, -1.24163870e+00, -1.01653005e+00],\n",
       "       [ 5.13776747e-01, -2.34884662e-01,  8.46758705e-01,\n",
       "        -3.93465417e-01,  6.66375448e-01, -7.89000489e-02,\n",
       "         9.78056857e-01,  8.05387266e-01,  9.83738754e-01],\n",
       "       [-1.26020712e+00,  1.59122845e+00,  8.46758705e-01,\n",
       "        -3.93465417e-01,  3.72831105e-01, -8.75253230e-02,\n",
       "        -3.21729229e-03,  8.05387266e-01, -1.01653005e+00],\n",
       "       [-6.68879162e-01, -2.34884662e-01, -9.97965617e-01,\n",
       "         2.34002627e+00, -8.64248625e-01, -9.06926368e-01,\n",
       "        -9.84491442e-01, -1.24163870e+00,  9.83738754e-01],\n",
       "       [-3.73215184e-01,  1.86526055e-01,  8.46758705e-01,\n",
       "        -3.93465417e-01,  5.82505636e-01,  2.83361466e-01,\n",
       "         6.13583602e-01,  8.05387266e-01, -1.01653005e+00],\n",
       "       [ 8.09440725e-01,  1.86526055e-01,  5.39304652e-01,\n",
       "        -3.93465417e-01,  6.10462240e-01,  1.49952512e+00,\n",
       "         6.41620006e-01,  8.05387266e-01, -1.01653005e+00],\n",
       "       [-3.73215184e-01, -4.45590021e-01,  2.31850598e-01,\n",
       "        -3.26794888e-01,  1.00254215e-01, -8.63799997e-01,\n",
       "        -5.63945378e-01, -1.24163870e+00, -1.01653005e+00],\n",
       "       [-7.75512071e-02, -9.44144231e-02, -3.83057509e-01,\n",
       "        -2.60124359e-01, -9.54420131e-02, -7.34420885e-01,\n",
       "        -7.60200207e-01, -1.24163870e+00,  9.83738754e-01],\n",
       "       [-9.64543139e-01,  9.59112372e-01,  2.31850598e-01,\n",
       "        -3.93465417e-01,  1.63156575e-01, -9.58678013e-01,\n",
       "        -4.79836165e-01,  8.05387266e-01, -1.01653005e+00],\n",
       "       [ 8.09440725e-01, -1.07770610e+00, -6.90511563e-01,\n",
       "        -1.93453830e-01,  3.79820256e-01,  2.05733998e-01,\n",
       "        -2.83581335e-01,  8.05387266e-01,  9.83738754e-01],\n",
       "       [-9.64543139e-01,  1.80193381e+00, -7.56034558e-02,\n",
       "        -1.26783301e-01, -2.17121987e+00, -8.89675820e-01,\n",
       "        -1.20878268e+00, -1.24163870e+00,  9.83738754e-01],\n",
       "       [-1.55587109e+00,  1.80193381e+00,  4.22875330e+00,\n",
       "        -6.01127720e-02, -2.27605713e+00, -9.50052739e-01,\n",
       "        -1.15270987e+00, -1.24163870e+00,  9.83738754e-01],\n",
       "       [ 1.10510470e+00, -4.45590021e-01, -6.90511563e-01,\n",
       "        -1.93453830e-01,  2.74982991e-01,  9.36054343e-02,\n",
       "        -2.27508526e-01,  8.05387266e-01, -1.01653005e+00],\n",
       "       [-3.73215184e-01, -5.15825141e-01, -1.30541967e+00,\n",
       "        -3.93465417e-01,  2.47026387e-01, -7.34420885e-01,\n",
       "        -5.63945378e-01, -1.24163870e+00, -1.01653005e+00],\n",
       "       [-3.73215184e-01, -4.45590021e-01, -1.30541967e+00,\n",
       "        -3.93465417e-01,  6.52397146e-01,  1.71232902e-01,\n",
       "         2.49110346e-01,  8.05387266e-01, -1.01653005e+00],\n",
       "       [-6.68879162e-01,  1.94240405e+00,  2.31850598e-01,\n",
       "         6.55775695e-03, -2.87712412e+00, -1.15705932e+00,\n",
       "        -1.26485548e+00, -1.24163870e+00, -1.01653005e+00],\n",
       "       [ 1.40076868e+00, -1.49911682e+00, -6.90511563e-01,\n",
       "        -3.93465417e-01,  9.38952337e-01,  6.71498803e-01,\n",
       "         1.76307618e+00,  8.05387266e-01,  9.83738754e-01],\n",
       "       [-7.75512071e-02,  5.37701654e-01,  2.31850598e-01,\n",
       "        -3.93465417e-01,  5.61538183e-01,  8.49801602e-02,\n",
       "         2.77146750e-01,  8.05387266e-01, -1.01653005e+00],\n",
       "       [-7.75512071e-02,  1.38052309e+00,  5.39304652e-01,\n",
       "        -3.93465417e-01,  4.28744313e-01,  5.67995513e-01,\n",
       "         5.28555162e-02,  8.05387266e-01,  9.83738754e-01],\n",
       "       [-7.75512071e-02,  4.67466534e-01, -3.83057509e-01,\n",
       "         5.39921989e-01, -8.29302870e-01, -5.87791224e-01,\n",
       "        -9.56455037e-01, -1.24163870e+00, -1.01653005e+00],\n",
       "       [ 1.10510470e+00, -3.75354902e-01,  2.31850598e-01,\n",
       "        -3.93465417e-01,  7.29277807e-01,  8.00877915e-01,\n",
       "         1.03412967e+00,  8.05387266e-01,  9.83738754e-01],\n",
       "       [-9.64543139e-01,  2.56761175e-01,  1.15421276e+00,\n",
       "         6.55775695e-03, -7.10487303e-01, -7.77547256e-01,\n",
       "        -8.44309420e-01, -1.24163870e+00, -1.01653005e+00],\n",
       "       [ 2.18112770e-01, -1.70982218e+00,  2.31850598e-01,\n",
       "        -3.93465417e-01,  9.59919791e-01,  4.03535572e+00,\n",
       "         2.40791347e+00,  8.05387266e-01,  9.83738754e-01],\n",
       "       [ 1.69643266e+00, -1.28841146e+00, -6.90511563e-01,\n",
       "        -6.01127720e-02,  4.56700917e-01, -1.30651694e-01,\n",
       "        -1.15362909e-01,  8.05387266e-01,  9.83738754e-01],\n",
       "       [-3.73215184e-01, -1.35864658e+00,  1.76912087e+00,\n",
       "        -3.93465417e-01,  8.48093374e-01,  3.17862562e-01,\n",
       "         2.49202269e+00,  8.05387266e-01,  9.83738754e-01],\n",
       "       [ 5.13776747e-01,  1.86526055e-01, -3.83057509e-01,\n",
       "        -3.93465417e-01,  7.29277807e-01,  2.24129870e+00,\n",
       "         1.25842090e+00,  8.05387266e-01, -1.01653005e+00],\n",
       "       [ 1.10510470e+00, -5.86060261e-01,  1.15421276e+00,\n",
       "        -3.93465417e-01,  7.50245260e-01,  2.22984547e-01,\n",
       "         1.53878494e+00,  8.05387266e-01, -1.01653005e+00],\n",
       "       [-3.73215184e-01,  1.16981773e+00,  8.46758705e-01,\n",
       "        -3.93465417e-01,  5.12614125e-01,  2.68118768e+00,\n",
       "         5.28555162e-02,  8.05387266e-01, -1.01653005e+00],\n",
       "       [ 5.13776747e-01, -3.75354902e-01, -7.56034558e-02,\n",
       "         1.53997992e+00, -2.56192486e-01, -6.39542869e-01,\n",
       "        -8.16273016e-01, -1.24163870e+00,  9.83738754e-01],\n",
       "       [ 2.18112770e-01, -3.05119782e-01,  2.31850598e-01,\n",
       "        -3.93465417e-01,  6.31429693e-01,  1.02230708e-01,\n",
       "         6.13583602e-01,  8.05387266e-01,  9.83738754e-01],\n",
       "       [-3.73215184e-01,  7.48407013e-01, -3.83057509e-01,\n",
       "        -3.93465417e-01,  4.00787709e-01, -5.36039579e-01,\n",
       "        -1.99472122e-01,  8.05387266e-01,  9.83738754e-01],\n",
       "       [ 1.10510470e+00, -1.99076265e+00, -6.90511563e-01,\n",
       "        -3.26794888e-01,  8.48093374e-01,  9.73383398e-01,\n",
       "         1.25842090e+00,  8.05387266e-01,  9.83738754e-01],\n",
       "       [ 5.13776747e-01, -3.75354902e-01,  5.39304652e-01,\n",
       "        -3.26794888e-01,  4.35733464e-01, -4.15285741e-01,\n",
       "         5.28555162e-02,  8.05387266e-01,  9.83738754e-01]])"
      ]
     },
     "execution_count": 22,
     "metadata": {},
     "output_type": "execute_result"
    }
   ],
   "source": [
    "X_test_scaled"
   ]
  },
  {
   "cell_type": "code",
   "execution_count": null,
   "id": "4135ee2a-6b0d-4d38-8294-b888e0d83bd5",
   "metadata": {},
   "outputs": [
    {
     "data": {
      "text/plain": [
       "array([[-0.96454314,  0.88887725,  1.15421276, ..., -0.67609099,\n",
       "        -1.2416387 , -1.01653005],\n",
       "       [-0.37321518,  0.74840701, -0.38305751, ..., -1.04056425,\n",
       "        -1.2416387 ,  0.98373875],\n",
       "       [ 2.28776061, -2.13123289, -0.07560346, ...,  3.38918762,\n",
       "         0.80538727,  0.98373875],\n",
       "       ...,\n",
       "       [-2.14719905,  1.02934749,  0.53930465, ..., -1.20878268,\n",
       "        -1.2416387 , -1.01653005],\n",
       "       [ 0.51377675, -0.16464954,  0.2318506 , ...,  0.80983843,\n",
       "         0.80538727,  0.98373875],\n",
       "       [-0.66887916,  1.09958261,  1.76912087, ..., -0.95645504,\n",
       "        -1.2416387 , -1.01653005]])"
      ]
     },
     "execution_count": 23,
     "metadata": {},
     "output_type": "execute_result"
    }
   ],
   "source": [
    "X_train_scaled"
   ]
  },
  {
   "cell_type": "markdown",
   "id": "44f794f9-42e9-4c6d-a711-a8184b4eb7e5",
   "metadata": {},
   "source": [
    "## Box Plots To understand Effect Of Standard Scaler"
   ]
  },
  {
   "cell_type": "code",
   "execution_count": null,
   "id": "2aecf917-cd0c-48ce-8823-a08b31710c6a",
   "metadata": {},
   "outputs": [
    {
     "data": {
      "image/png": "[encoded data removed]",
      "text/plain": [
       "<Figure size 2000x700 with 3 Axes>"
      ]
     },
     "metadata": {},
     "output_type": "display_data"
    }
   ],
   "source": [
    "plt.subplots(figsize=(20,7))\n",
    "plt.subplot(1,2,1)\n",
    "sns.boxplot(data=X_train)\n",
    "plt.title('X_train before Scaled')\n",
    "plt.subplot(1,2,2)\n",
    "sns.boxplot(data=X_train_scaled)\n",
    "plt.title('X_train after Scaled')\n",
    "plt.show()"
   ]
  },
  {
   "cell_type": "markdown",
   "id": "424f2495-d5b0-4d23-8800-1a210d214c5f",
   "metadata": {},
   "source": [
    "# Models"
   ]
  },
  {
   "cell_type": "markdown",
   "id": "88d07427-0026-43e0-b2bb-64644851aada",
   "metadata": {},
   "source": [
    "# Linear Regression Model"
   ]
  },
  {
   "cell_type": "code",
   "execution_count": null,
   "id": "742629d3-810d-4cac-aef2-daebd0346213",
   "metadata": {},
   "outputs": [
    {
     "name": "stdout",
     "output_type": "stream",
     "text": [
      "Mean Absolute Error 0.5468236465249984\n",
      "R2-scrore 0.9847657384266952\n"
     ]
    }
   ],
   "source": [
    "from sklearn.linear_model import LinearRegression\n",
    "from sklearn.metrics import mean_absolute_error\n",
    "from sklearn.metrics import r2_score\n",
    "linear=LinearRegression()\n",
    "linear.fit(X_train_scaled,y_train)\n",
    "y_pred=linear.predict(X_test_scaled)\n",
    "mae=mean_absolute_error(y_test,y_pred)\n",
    "score=r2_score(y_test,y_pred)\n",
    "print(\"Mean Absolute Error\",mae)\n",
    "print('R2-scrore',score)"
   ]
  },
  {
   "cell_type": "markdown",
   "id": "13ce2229-3773-44fa-832d-8779b397f91f",
   "metadata": {},
   "source": [
    "# Lasso Regression"
   ]
  },
  {
   "cell_type": "code",
   "execution_count": null,
   "id": "7ffbc8f3-8b0d-405a-b894-56a9fba5c954",
   "metadata": {},
   "outputs": [
    {
     "name": "stdout",
     "output_type": "stream",
     "text": [
      "Mean  Absolute Error 1.0500757831304819\n",
      "R2-Score 0.9552076016598269\n"
     ]
    }
   ],
   "source": [
    "from sklearn.linear_model import Lasso\n",
    "from sklearn.metrics import mean_absolute_error\n",
    "from sklearn.metrics import r2_score\n",
    "lasso=Lasso()\n",
    "lasso.fit(X_train_scaled,y_train)\n",
    "y_pred=lasso.predict(X_test_scaled)\n",
    "mae=mean_absolute_error(y_test,y_pred)\n",
    "score=r2_score(y_test,y_pred)\n",
    "print(\"Mean  Absolute Error\",mae)\n",
    "print(\"R2-Score\",score)"
   ]
  },
  {
   "cell_type": "markdown",
   "id": "8962048c-159f-4eb7-a3e4-2e3988e551b7",
   "metadata": {},
   "source": [
    "# Ridge Regression"
   ]
  },
  {
   "cell_type": "code",
   "execution_count": null,
   "id": "91d7301f-5863-487f-8b36-6f4627c6cae9",
   "metadata": {},
   "outputs": [
    {
     "name": "stdout",
     "output_type": "stream",
     "text": [
      "Mean Absolute Error 0.5584348063763342\n",
      "R2-Score 0.9844893094550833\n"
     ]
    }
   ],
   "source": [
    "from sklearn.linear_model import Ridge\n",
    "from sklearn.metrics import mean_absolute_error\n",
    "from sklearn.metrics import r2_score\n",
    "ridge=Ridge()\n",
    "ridge.fit(X_train_scaled,y_train)\n",
    "y_pred=ridge.predict(X_test_scaled)\n",
    "mae=mean_absolute_error(y_test,y_pred)\n",
    "score=r2_score(y_test,y_pred)\n",
    "print(\"Mean Absolute Error\",mae)\n",
    "print(\"R2-Score\",score)"
   ]
  },
  {
   "cell_type": "markdown",
   "id": "19fc9b39-419c-4c78-b31a-761593c16382",
   "metadata": {},
   "source": [
    "## Elastic_Net"
   ]
  },
  {
   "cell_type": "code",
   "execution_count": null,
   "id": "a30332be-1d28-4e24-a030-4c202646b345",
   "metadata": {},
   "outputs": [
    {
     "name": "stdout",
     "output_type": "stream",
     "text": [
      "Mean Absolute Eroor 1.6314801580997713\n",
      "R2-Score 0.9042128090157637\n"
     ]
    }
   ],
   "source": [
    "from sklearn.linear_model import ElasticNet\n",
    "from sklearn.metrics import mean_absolute_error\n",
    "from sklearn.metrics import r2_score\n",
    "elasticnet=ElasticNet()\n",
    "elasticnet.fit(X_train_scaled,y_train)\n",
    "y_pred=elasticnet.predict(X_test_scaled)\n",
    "mae=mean_absolute_error(y_test,y_pred)\n",
    "score=r2_score(y_test,y_pred)\n",
    "print(\"Mean Absolute Eroor\",mae)\n",
    "print(\"R2-Score\",score)"
   ]
  },
  {
   "cell_type": "markdown",
   "id": "49e505e4-6517-4dad-a6eb-789cdb69c711",
   "metadata": {},
   "source": [
    "## Pickling"
   ]
  },
  {
   "cell_type": "code",
   "execution_count": null,
   "id": "cac66bc9-2967-4709-b7d0-4e7542304f52",
   "metadata": {},
   "outputs": [],
   "source": [
    "import pickle"
   ]
  },
  {
   "cell_type": "code",
   "execution_count": null,
   "id": "b4a19ab9-b36a-4720-8720-ae3fab5b52ba",
   "metadata": {},
   "outputs": [],
   "source": [
    "pickle.dump(scaler,open('Scaler.pkl','wb'))\n",
    "pickle.dump(ridge,open('ridge.pkl','wb'))"
   ]
  },
  {
   "cell_type": "code",
   "execution_count": null,
   "id": "73345af1-c8a5-4d5e-a615-f1da74e3458d",
   "metadata": {},
   "outputs": [],
   "source": []
  }
 ],
 "metadata": {
  "kernelspec": {
   "display_name": "Python 3.8.10 64-bit",
   "language": "python",
   "name": "python3"
  },
  "language_info": {
   "codemirror_mode": {
    "name": "ipython",
    "version": 3
   },
   "file_extension": ".py",
   "mimetype": "text/x-python",
   "name": "python",
   "nbconvert_exporter": "python",
   "pygments_lexer": "ipython3",
   "version": "3.8.10"
  },
  "vscode": {
   "interpreter": {
    "hash": "e7370f93d1d0cde622a1f8e1c04877d8463912d04d973331ad4851f04de6915a"
   }
  }
 },
 "nbformat": 4,
 "nbformat_minor": 5
}
